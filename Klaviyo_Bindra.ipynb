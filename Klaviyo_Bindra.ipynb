{
  "nbformat": 4,
  "nbformat_minor": 0,
  "metadata": {
    "colab": {
      "name": "Klaviyo_Bindra.ipynb",
      "provenance": []
    },
    "kernelspec": {
      "name": "python3",
      "display_name": "Python 3"
    }
  },
  "cells": [
    {
      "cell_type": "markdown",
      "metadata": {
        "id": "TK1kJHYZ54ln",
        "colab_type": "text"
      },
      "source": [
        "# Submitted By : \n",
        "# Parmeen Singh H Bindra \n",
        "parmeen.bindra@gmail.com\n",
        "\n",
        "312-757-0920\n",
        "\n",
        "https://www.linkedin.com/in/parmeenbindra/"
      ]
    },
    {
      "cell_type": "code",
      "metadata": {
        "id": "WLFbixP39ZGb",
        "colab_type": "code",
        "colab": {
          "resources": {
            "http://localhost:8080/nbextensions/google.colab/files.js": {
              "data": "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",
              "ok": true,
              "headers": [
                [
                  "content-type",
                  "application/javascript"
                ]
              ],
              "status": 200,
              "status_text": ""
            }
          },
          "base_uri": "https://localhost:8080/",
          "height": 73
        },
        "outputId": "c3bd92c4-f697-4c6a-cd09-c4e6fdde3777"
      },
      "source": [
        "from google.colab import files\n",
        "uploaded = files.upload()"
      ],
      "execution_count": 25,
      "outputs": [
        {
          "output_type": "display_data",
          "data": {
            "text/html": [
              "\n",
              "     <input type=\"file\" id=\"files-5424423e-7260-4adc-88cb-264996f6bf2e\" name=\"files[]\" multiple disabled\n",
              "        style=\"border:none\" />\n",
              "     <output id=\"result-5424423e-7260-4adc-88cb-264996f6bf2e\">\n",
              "      Upload widget is only available when the cell has been executed in the\n",
              "      current browser session. Please rerun this cell to enable.\n",
              "      </output>\n",
              "      <script src=\"/nbextensions/google.colab/files.js\"></script> "
            ],
            "text/plain": [
              "<IPython.core.display.HTML object>"
            ]
          },
          "metadata": {
            "tags": []
          }
        },
        {
          "output_type": "stream",
          "text": [
            "Saving screening_exercise_orders_v201810.csv to screening_exercise_orders_v201810 (1).csv\n"
          ],
          "name": "stdout"
        }
      ]
    },
    {
      "cell_type": "code",
      "metadata": {
        "id": "RlL_8Eah1FNr",
        "colab_type": "code",
        "colab": {}
      },
      "source": [
        "from scipy import stats \n",
        "import pandas as pd #for data manipulation & analyses\n",
        "import matplotlib.pyplot as plt #for plotting graphs\n",
        "import numpy as np  #for mathematical & array functions\n",
        "import dateutil #for date-time functions\n",
        "import seaborn as sns \n",
        "from sklearn.metrics import confusion_matrix,accuracy_score, f1_score, precision_score, recall_score #for our confusion matrix"
      ],
      "execution_count": 64,
      "outputs": []
    },
    {
      "cell_type": "code",
      "metadata": {
        "id": "ElbzW1B372Gm",
        "colab_type": "code",
        "colab": {}
      },
      "source": [
        "dataset = pd.read_csv(\"screening_exercise_orders_v201810.csv\")"
      ],
      "execution_count": 65,
      "outputs": []
    },
    {
      "cell_type": "code",
      "metadata": {
        "id": "chkVNNOT-jyR",
        "colab_type": "code",
        "colab": {
          "base_uri": "https://localhost:8080/",
          "height": 252
        },
        "outputId": "a8e5c7cc-98ca-4dcd-be07-8cc6daab53de"
      },
      "source": [
        "print (dataset)"
      ],
      "execution_count": 66,
      "outputs": [
        {
          "output_type": "stream",
          "text": [
            "       customer_id  gender                 date   value  predicted_gender\n",
            "0             1000       0  2017-01-01 00:11:31  198.50                 1\n",
            "1             1001       0  2017-01-01 00:29:56  338.00                 1\n",
            "2             1002       1  2017-01-01 01:30:31  733.00                 1\n",
            "3             1003       1  2017-01-01 01:34:22  772.00                 1\n",
            "4             1004       0  2017-01-01 03:11:54  508.00                 1\n",
            "...            ...     ...                  ...     ...               ...\n",
            "13466         9810       1  2017-12-31 22:16:20  794.44                 0\n",
            "13467         9811       1  2017-12-31 22:24:06  148.60                 0\n",
            "13468         9812       0  2017-12-31 23:01:10  153.00                 1\n",
            "13469         9813       0  2017-12-31 23:11:02  534.00                 1\n",
            "13470         8658       0  2017-12-31 23:35:09  306.60                 1\n",
            "\n",
            "[13471 rows x 5 columns]\n"
          ],
          "name": "stdout"
        }
      ]
    },
    {
      "cell_type": "markdown",
      "metadata": {
        "id": "IOs61FlVBdcD",
        "colab_type": "text"
      },
      "source": [
        "# A) \n",
        "### Assemble a dataframe with one row per customer and the following columns:\n",
        "\n",
        "* customer_id\n",
        "* gender\n",
        "* most_recent_order_date\n",
        "* order_count (number of orders placed by this customer)\n",
        "\n",
        "### Sort the dataframe by customer_id ascending and display the first 10 rows."
      ]
    },
    {
      "cell_type": "code",
      "metadata": {
        "id": "DTki8R1dAJll",
        "colab_type": "code",
        "colab": {}
      },
      "source": [
        "#We have 'customer_id' and 'gender' in our original dataset\n",
        "#Calculating 'most_recent_order_date', sorted ASC on 'customer_id'\n",
        "most_recent_order_date = dataset.groupby(['customer_id','gender'], sort=True)['date'].max()"
      ],
      "execution_count": 67,
      "outputs": []
    },
    {
      "cell_type": "code",
      "metadata": {
        "id": "O5AtbvXyAe1X",
        "colab_type": "code",
        "colab": {
          "base_uri": "https://localhost:8080/",
          "height": 252
        },
        "outputId": "b1627bcb-196e-4671-ec0e-c7ba544d7a59"
      },
      "source": [
        "#convert to data frame for 'most_recent_order_date'\n",
        "most_recent_order_date_df = most_recent_order_date.to_frame().reset_index()\n",
        "print(most_recent_order_date_df)\n"
      ],
      "execution_count": 68,
      "outputs": [
        {
          "output_type": "stream",
          "text": [
            "      customer_id  gender                 date\n",
            "0            1000       0  2017-01-01 00:11:31\n",
            "1            1001       0  2017-01-01 00:29:56\n",
            "2            1002       1  2017-02-19 21:35:31\n",
            "3            1003       1  2017-04-26 02:37:20\n",
            "4            1004       0  2017-01-01 03:11:54\n",
            "...           ...     ...                  ...\n",
            "8809         9809       1  2017-12-31 21:39:33\n",
            "8810         9810       1  2017-12-31 22:16:20\n",
            "8811         9811       1  2017-12-31 22:24:06\n",
            "8812         9812       0  2017-12-31 23:01:10\n",
            "8813         9813       0  2017-12-31 23:11:02\n",
            "\n",
            "[8814 rows x 3 columns]\n"
          ],
          "name": "stdout"
        }
      ]
    },
    {
      "cell_type": "code",
      "metadata": {
        "id": "A4PKgvYKA9cf",
        "colab_type": "code",
        "colab": {
          "base_uri": "https://localhost:8080/",
          "height": 252
        },
        "outputId": "03539868-edaf-4a52-f6a8-d0a179298a75"
      },
      "source": [
        "#Rename 'date' to 'most_recent_order_date'\n",
        "most_recent_order_date_df.columns = ['customer_id','gender','most_recent_order_date']\n",
        "print(most_recent_order_date_df)"
      ],
      "execution_count": 69,
      "outputs": [
        {
          "output_type": "stream",
          "text": [
            "      customer_id  gender most_recent_order_date\n",
            "0            1000       0    2017-01-01 00:11:31\n",
            "1            1001       0    2017-01-01 00:29:56\n",
            "2            1002       1    2017-02-19 21:35:31\n",
            "3            1003       1    2017-04-26 02:37:20\n",
            "4            1004       0    2017-01-01 03:11:54\n",
            "...           ...     ...                    ...\n",
            "8809         9809       1    2017-12-31 21:39:33\n",
            "8810         9810       1    2017-12-31 22:16:20\n",
            "8811         9811       1    2017-12-31 22:24:06\n",
            "8812         9812       0    2017-12-31 23:01:10\n",
            "8813         9813       0    2017-12-31 23:11:02\n",
            "\n",
            "[8814 rows x 3 columns]\n"
          ],
          "name": "stdout"
        }
      ]
    },
    {
      "cell_type": "code",
      "metadata": {
        "id": "Yut1-fuTCm1q",
        "colab_type": "code",
        "colab": {}
      },
      "source": [
        "# Calculating order_count (number of orders placed by this customer)\n",
        "order_count = dataset['customer_id'].value_counts()"
      ],
      "execution_count": 70,
      "outputs": []
    },
    {
      "cell_type": "code",
      "metadata": {
        "id": "Y6rqx0pZC9EH",
        "colab_type": "code",
        "colab": {
          "base_uri": "https://localhost:8080/",
          "height": 252
        },
        "outputId": "de84f45f-b7c5-4d26-ed7c-5b6366671259"
      },
      "source": [
        "# convert to dataframe & reset the index\n",
        "order_count_df = order_count.to_frame().reset_index()\n",
        "print(order_count_df)"
      ],
      "execution_count": 71,
      "outputs": [
        {
          "output_type": "stream",
          "text": [
            "      index  customer_id\n",
            "0      7419           25\n",
            "1      4745           16\n",
            "2      1668           16\n",
            "3      6496           16\n",
            "4      6750           14\n",
            "...     ...          ...\n",
            "8809   3869            1\n",
            "8810   5918            1\n",
            "8811   7967            1\n",
            "8812   1828            1\n",
            "8813   2049            1\n",
            "\n",
            "[8814 rows x 2 columns]\n"
          ],
          "name": "stdout"
        }
      ]
    },
    {
      "cell_type": "code",
      "metadata": {
        "id": "LsurNauJDwc5",
        "colab_type": "code",
        "colab": {
          "base_uri": "https://localhost:8080/",
          "height": 252
        },
        "outputId": "893c512e-736b-4ced-a0ce-aab2458dbf56"
      },
      "source": [
        "# rename the columns\n",
        "order_count_df.columns = ['customer_id','order_count']\n",
        "print(order_count_df)\n"
      ],
      "execution_count": 72,
      "outputs": [
        {
          "output_type": "stream",
          "text": [
            "      customer_id  order_count\n",
            "0            7419           25\n",
            "1            4745           16\n",
            "2            1668           16\n",
            "3            6496           16\n",
            "4            6750           14\n",
            "...           ...          ...\n",
            "8809         3869            1\n",
            "8810         5918            1\n",
            "8811         7967            1\n",
            "8812         1828            1\n",
            "8813         2049            1\n",
            "\n",
            "[8814 rows x 2 columns]\n"
          ],
          "name": "stdout"
        }
      ]
    },
    {
      "cell_type": "code",
      "metadata": {
        "id": "azSWrU0yD4pZ",
        "colab_type": "code",
        "colab": {
          "base_uri": "https://localhost:8080/",
          "height": 269
        },
        "outputId": "a6e0feae-1fc9-4091-f78e-932adfd7c37b"
      },
      "source": [
        "# We now have our calculated fields, we have to combine these with the 'customer_id' and 'gender' columns from our original dataset\n",
        "# performing an outer join on our calculated data frames, along the 'customer_id' \n",
        "customer_dataset = most_recent_order_date_df.set_index('customer_id').join(order_count_df.set_index('customer_id'))\n",
        "print(customer_dataset)"
      ],
      "execution_count": 73,
      "outputs": [
        {
          "output_type": "stream",
          "text": [
            "             gender most_recent_order_date  order_count\n",
            "customer_id                                            \n",
            "1000              0    2017-01-01 00:11:31            1\n",
            "1001              0    2017-01-01 00:29:56            1\n",
            "1002              1    2017-02-19 21:35:31            3\n",
            "1003              1    2017-04-26 02:37:20            4\n",
            "1004              0    2017-01-01 03:11:54            1\n",
            "...             ...                    ...          ...\n",
            "9809              1    2017-12-31 21:39:33            1\n",
            "9810              1    2017-12-31 22:16:20            1\n",
            "9811              1    2017-12-31 22:24:06            1\n",
            "9812              0    2017-12-31 23:01:10            1\n",
            "9813              0    2017-12-31 23:11:02            1\n",
            "\n",
            "[8814 rows x 3 columns]\n"
          ],
          "name": "stdout"
        }
      ]
    },
    {
      "cell_type": "code",
      "metadata": {
        "id": "Yk9N6idHGD6u",
        "colab_type": "code",
        "colab": {
          "base_uri": "https://localhost:8080/",
          "height": 373
        },
        "outputId": "bf832411-18c6-42a9-91fc-7e70d21280ad"
      },
      "source": [
        "# display first 10 rows\n",
        "customer_dataset.head(10)"
      ],
      "execution_count": 74,
      "outputs": [
        {
          "output_type": "execute_result",
          "data": {
            "text/html": [
              "<div>\n",
              "<style scoped>\n",
              "    .dataframe tbody tr th:only-of-type {\n",
              "        vertical-align: middle;\n",
              "    }\n",
              "\n",
              "    .dataframe tbody tr th {\n",
              "        vertical-align: top;\n",
              "    }\n",
              "\n",
              "    .dataframe thead th {\n",
              "        text-align: right;\n",
              "    }\n",
              "</style>\n",
              "<table border=\"1\" class=\"dataframe\">\n",
              "  <thead>\n",
              "    <tr style=\"text-align: right;\">\n",
              "      <th></th>\n",
              "      <th>gender</th>\n",
              "      <th>most_recent_order_date</th>\n",
              "      <th>order_count</th>\n",
              "    </tr>\n",
              "    <tr>\n",
              "      <th>customer_id</th>\n",
              "      <th></th>\n",
              "      <th></th>\n",
              "      <th></th>\n",
              "    </tr>\n",
              "  </thead>\n",
              "  <tbody>\n",
              "    <tr>\n",
              "      <th>1000</th>\n",
              "      <td>0</td>\n",
              "      <td>2017-01-01 00:11:31</td>\n",
              "      <td>1</td>\n",
              "    </tr>\n",
              "    <tr>\n",
              "      <th>1001</th>\n",
              "      <td>0</td>\n",
              "      <td>2017-01-01 00:29:56</td>\n",
              "      <td>1</td>\n",
              "    </tr>\n",
              "    <tr>\n",
              "      <th>1002</th>\n",
              "      <td>1</td>\n",
              "      <td>2017-02-19 21:35:31</td>\n",
              "      <td>3</td>\n",
              "    </tr>\n",
              "    <tr>\n",
              "      <th>1003</th>\n",
              "      <td>1</td>\n",
              "      <td>2017-04-26 02:37:20</td>\n",
              "      <td>4</td>\n",
              "    </tr>\n",
              "    <tr>\n",
              "      <th>1004</th>\n",
              "      <td>0</td>\n",
              "      <td>2017-01-01 03:11:54</td>\n",
              "      <td>1</td>\n",
              "    </tr>\n",
              "    <tr>\n",
              "      <th>1005</th>\n",
              "      <td>1</td>\n",
              "      <td>2017-12-16 01:39:27</td>\n",
              "      <td>2</td>\n",
              "    </tr>\n",
              "    <tr>\n",
              "      <th>1006</th>\n",
              "      <td>1</td>\n",
              "      <td>2017-05-09 15:27:20</td>\n",
              "      <td>3</td>\n",
              "    </tr>\n",
              "    <tr>\n",
              "      <th>1007</th>\n",
              "      <td>0</td>\n",
              "      <td>2017-01-01 15:59:50</td>\n",
              "      <td>1</td>\n",
              "    </tr>\n",
              "    <tr>\n",
              "      <th>1008</th>\n",
              "      <td>0</td>\n",
              "      <td>2017-12-17 05:47:48</td>\n",
              "      <td>3</td>\n",
              "    </tr>\n",
              "    <tr>\n",
              "      <th>1009</th>\n",
              "      <td>1</td>\n",
              "      <td>2017-01-01 19:27:17</td>\n",
              "      <td>1</td>\n",
              "    </tr>\n",
              "  </tbody>\n",
              "</table>\n",
              "</div>"
            ],
            "text/plain": [
              "             gender most_recent_order_date  order_count\n",
              "customer_id                                            \n",
              "1000              0    2017-01-01 00:11:31            1\n",
              "1001              0    2017-01-01 00:29:56            1\n",
              "1002              1    2017-02-19 21:35:31            3\n",
              "1003              1    2017-04-26 02:37:20            4\n",
              "1004              0    2017-01-01 03:11:54            1\n",
              "1005              1    2017-12-16 01:39:27            2\n",
              "1006              1    2017-05-09 15:27:20            3\n",
              "1007              0    2017-01-01 15:59:50            1\n",
              "1008              0    2017-12-17 05:47:48            3\n",
              "1009              1    2017-01-01 19:27:17            1"
            ]
          },
          "metadata": {
            "tags": []
          },
          "execution_count": 74
        }
      ]
    },
    {
      "cell_type": "markdown",
      "metadata": {
        "id": "7daBxVmMHFen",
        "colab_type": "text"
      },
      "source": [
        "# B) Plot the count of orders per week for the store."
      ]
    },
    {
      "cell_type": "code",
      "metadata": {
        "id": "ll_dbTLcJE6u",
        "colab_type": "code",
        "colab": {
          "base_uri": "https://localhost:8080/",
          "height": 118
        },
        "outputId": "c1a5987d-1535-4096-f6ab-14a4c8eefbdf"
      },
      "source": [
        "dataset.dtypes"
      ],
      "execution_count": 75,
      "outputs": [
        {
          "output_type": "execute_result",
          "data": {
            "text/plain": [
              "customer_id           int64\n",
              "gender                int64\n",
              "date                 object\n",
              "value               float64\n",
              "predicted_gender      int64\n",
              "dtype: object"
            ]
          },
          "metadata": {
            "tags": []
          },
          "execution_count": 75
        }
      ]
    },
    {
      "cell_type": "code",
      "metadata": {
        "id": "oeDMqmgPHD5I",
        "colab_type": "code",
        "colab": {
          "base_uri": "https://localhost:8080/",
          "height": 134
        },
        "outputId": "6e549490-a2a9-4a54-b623-cf17190e2971"
      },
      "source": [
        "# Data type conversion necessary for 'date' column, it is not in a date format\n",
        "dataset['date'] = pd.to_datetime(dataset['date'])\n",
        "dataset.dtypes"
      ],
      "execution_count": 78,
      "outputs": [
        {
          "output_type": "execute_result",
          "data": {
            "text/plain": [
              "customer_id                  int64\n",
              "gender                       int64\n",
              "date                datetime64[ns]\n",
              "value                      float64\n",
              "predicted_gender             int64\n",
              "week_of_yr                  object\n",
              "dtype: object"
            ]
          },
          "metadata": {
            "tags": []
          },
          "execution_count": 78
        }
      ]
    },
    {
      "cell_type": "code",
      "metadata": {
        "id": "73NujesdgGN9",
        "colab_type": "code",
        "colab": {}
      },
      "source": [
        "# Calculating week number\n",
        "dataset['week_of_yr'] = dataset.date.dt.strftime('%U-%Y')"
      ],
      "execution_count": 79,
      "outputs": []
    },
    {
      "cell_type": "code",
      "metadata": {
        "id": "HGcj5_mRJ5BV",
        "colab_type": "code",
        "colab": {
          "base_uri": "https://localhost:8080/",
          "height": 941
        },
        "outputId": "50c5b9a9-d621-4513-eb02-795225463c84"
      },
      "source": [
        "# Calculating weekly orders\n",
        "weekly_order_count = dataset.groupby(['week_of_yr'])['value'].count()\n",
        "print(weekly_order_count)"
      ],
      "execution_count": 80,
      "outputs": [
        {
          "output_type": "stream",
          "text": [
            "week_of_yr\n",
            "01-2017    175\n",
            "02-2017    259\n",
            "03-2017    356\n",
            "04-2017    287\n",
            "05-2017    209\n",
            "06-2017    198\n",
            "07-2017    233\n",
            "08-2017    314\n",
            "09-2017    271\n",
            "10-2017    319\n",
            "11-2017    272\n",
            "12-2017    237\n",
            "13-2017    226\n",
            "14-2017    337\n",
            "15-2017    305\n",
            "16-2017    228\n",
            "17-2017    209\n",
            "18-2017    251\n",
            "19-2017    341\n",
            "20-2017    554\n",
            "21-2017    392\n",
            "22-2017    203\n",
            "23-2017    227\n",
            "24-2017    311\n",
            "25-2017    264\n",
            "26-2017    359\n",
            "27-2017    319\n",
            "28-2017    221\n",
            "29-2017    245\n",
            "30-2017    192\n",
            "31-2017    184\n",
            "32-2017    185\n",
            "33-2017    186\n",
            "34-2017    283\n",
            "35-2017    221\n",
            "36-2017    210\n",
            "37-2017    239\n",
            "38-2017    172\n",
            "39-2017    200\n",
            "40-2017    284\n",
            "41-2017    413\n",
            "42-2017    175\n",
            "43-2017    150\n",
            "44-2017    159\n",
            "45-2017    175\n",
            "46-2017    183\n",
            "47-2017    341\n",
            "48-2017    395\n",
            "49-2017    226\n",
            "50-2017    287\n",
            "51-2017    230\n",
            "52-2017    224\n",
            "53-2017     35\n",
            "Name: value, dtype: int64\n"
          ],
          "name": "stdout"
        }
      ]
    },
    {
      "cell_type": "code",
      "metadata": {
        "id": "bHukCShtKv3J",
        "colab_type": "code",
        "colab": {
          "base_uri": "https://localhost:8080/",
          "height": 678
        },
        "outputId": "cf9e7089-d697-4721-96fd-f26a5d1769d4"
      },
      "source": [
        "### Plot\n",
        "# Resizing the plot canvas\n",
        "%pylab inline\n",
        "pylab.rcParams['figure.figsize'] = (20, 10)\n",
        "\n",
        "# Bar Plot\n",
        "b= weekly_order_count.plot.bar()\n",
        "# Plot formatting\n",
        "plt.title('Count of orders per week',fontsize=18)\n",
        "plt.ylabel('Order count',fontsize=14)\n",
        "plt.xlabel('Week Number - Year',fontsize=14)\n",
        "# adding numeric labels on bars\n",
        "for p in b.patches: b.annotate(np.round(p.get_height(),decimals=2), (p.get_x()+p.get_width()/2., p.get_height()), ha='center', va='center', xytext=(0, 10), textcoords='offset points')\n",
        "plt.show()"
      ],
      "execution_count": 81,
      "outputs": [
        {
          "output_type": "stream",
          "text": [
            "Populating the interactive namespace from numpy and matplotlib\n"
          ],
          "name": "stdout"
        },
        {
          "output_type": "display_data",
          "data": {
            "image/png": "[encoded data removed]",
            "text/plain": [
              "<Figure size 1440x720 with 1 Axes>"
            ]
          },
          "metadata": {
            "tags": [],
            "needs_background": "light"
          }
        }
      ]
    },
    {
      "cell_type": "markdown",
      "metadata": {
        "id": "pmSNTqoiOCuP",
        "colab_type": "text"
      },
      "source": [
        "# C) Compute the mean order value for gender 0 and for gender 1. Do you think the difference is significant? Justify your choice of method."
      ]
    },
    {
      "cell_type": "markdown",
      "metadata": {
        "id": "TtRsfd9dZ-ya",
        "colab_type": "text"
      },
      "source": [
        "### Assumptions : \n",
        " \n",
        "\n",
        "1.   The insights from this dataset are reflective of the data points captured for analysis, and is not reflective of characteristics (means, variance, significance, etc.) of a larger, more granular dataset.\n",
        "\n",
        "2.   There are only 2 gender types - male & female.\n",
        "#### [This dataset doesn't identify non-binary gender types, and therfore isn't an ideal dataset. A study suggests roughly 2 million americans do not identify themselves as male/female.]\n",
        "\n",
        "\n"
      ]
    },
    {
      "cell_type": "code",
      "metadata": {
        "id": "3GC3nb37L8_M",
        "colab_type": "code",
        "colab": {
          "base_uri": "https://localhost:8080/",
          "height": 50
        },
        "outputId": "aa30eafb-1145-4f55-aa8d-bb82bdf4dbd5"
      },
      "source": [
        "# Calculate & print Mean Order Values for Gender 0 and Gender 1\n",
        "g0_mean = dataset.groupby('gender')['value'].mean()[0]\n",
        "g1_mean = dataset.groupby('gender')['value'].mean()[1]\n",
        "print(\"Mean Order Value for Gender 0 = \" + str(g0_mean))\n",
        "print(\"Mean Order Value for Gender 1 = \" + str(g1_mean))\n"
      ],
      "execution_count": 82,
      "outputs": [
        {
          "output_type": "stream",
          "text": [
            "Mean Order Value for Gender 0 = 363.89000591803506\n",
            "Mean Order Value for Gender 1 = 350.70836114422\n"
          ],
          "name": "stdout"
        }
      ]
    },
    {
      "cell_type": "markdown",
      "metadata": {
        "id": "KDqbysWBcOBE",
        "colab_type": "text"
      },
      "source": [
        "# I will be using a Null hypothesis as it helps giving a definition to significance in a dataset. It is a basic test used to determine statistical significance between parameters, with metrics to back up the test."
      ]
    },
    {
      "cell_type": "code",
      "metadata": {
        "id": "-rq0z5XUOwN9",
        "colab_type": "code",
        "colab": {}
      },
      "source": [
        "# Check Significance\n",
        "\n",
        "# We can do a null-hypothesis test \n",
        "# Null Hypothesis : Mean order values of gender 0 and gender 1 are the same\n",
        "# Alternate Hypothesis : Mean order values of gender 0 and gender 1 are the different\n",
        "\n",
        "# Sample set\n",
        "N = (dataset['customer_id'].count())/2"
      ],
      "execution_count": 83,
      "outputs": []
    },
    {
      "cell_type": "code",
      "metadata": {
        "id": "tCN55smuQOk0",
        "colab_type": "code",
        "colab": {
          "base_uri": "https://localhost:8080/",
          "height": 50
        },
        "outputId": "25ac4ecf-9d2d-4db6-9a22-b6bce8b48e19"
      },
      "source": [
        "# Calculate variance of Gender 0 and Gender 1\n",
        "g0_var = dataset.groupby('gender')['value'].var(ddof=1)[0]\n",
        "g1_var = dataset.groupby('gender')['value'].var(ddof=1)[1]\n",
        "print(g0_var)\n",
        "print(g1_var)"
      ],
      "execution_count": 84,
      "outputs": [
        {
          "output_type": "stream",
          "text": [
            "157238.59072707873\n",
            "142509.82682491044\n"
          ],
          "name": "stdout"
        }
      ]
    },
    {
      "cell_type": "code",
      "metadata": {
        "id": "iJ5zUPjkQqMG",
        "colab_type": "code",
        "colab": {}
      },
      "source": [
        "# Calculate Std. Deviation\n",
        "# Using sqrt (square root) from NumPy lib\n",
        "sd = np.sqrt((g0_var + g1_var)/2)"
      ],
      "execution_count": 85,
      "outputs": []
    },
    {
      "cell_type": "code",
      "metadata": {
        "id": "WWirM32mR4WP",
        "colab_type": "code",
        "colab": {
          "base_uri": "https://localhost:8080/",
          "height": 34
        },
        "outputId": "c0bf13ce-6e57-42b6-d260-f3c1b218c74a"
      },
      "source": [
        "# Calculate t-score\n",
        "t = (g0_mean - g1_mean)/(sd*np.sqrt(2/N))\n",
        "# for displaying result, I am rounding off the result to 4 decimals as well.\n",
        "t_new = round(t,4)\n",
        "print(\"The t-value is = \" + str(t_new))"
      ],
      "execution_count": 86,
      "outputs": [
        {
          "output_type": "stream",
          "text": [
            "The t-value is = 1.976\n"
          ],
          "name": "stdout"
        }
      ]
    },
    {
      "cell_type": "code",
      "metadata": {
        "id": "Tsqu-ZpXSboX",
        "colab_type": "code",
        "colab": {
          "base_uri": "https://localhost:8080/",
          "height": 34
        },
        "outputId": "56e6a4a1-b1fe-4c5e-ed37-c4feff0aa4e5"
      },
      "source": [
        "# Degrees of freedom\n",
        "df = 2*N - 2\n",
        "print(df)\n"
      ],
      "execution_count": 87,
      "outputs": [
        {
          "output_type": "stream",
          "text": [
            "13469.0\n"
          ],
          "name": "stdout"
        }
      ]
    },
    {
      "cell_type": "code",
      "metadata": {
        "id": "ESTMoqoBTCak",
        "colab_type": "code",
        "colab": {
          "base_uri": "https://localhost:8080/",
          "height": 34
        },
        "outputId": "61d6daae-6b4c-4f19-c58c-672280a416ef"
      },
      "source": [
        "# p-value after comparison with the t \n",
        "p = 1 - stats.t.cdf(t,df=df)\n",
        "print(p)"
      ],
      "execution_count": 88,
      "outputs": [
        {
          "output_type": "stream",
          "text": [
            "0.02409037572936379\n"
          ],
          "name": "stdout"
        }
      ]
    },
    {
      "cell_type": "code",
      "metadata": {
        "id": "4qK7tSJ9TNzV",
        "colab_type": "code",
        "colab": {
          "base_uri": "https://localhost:8080/",
          "height": 34
        },
        "outputId": "19e193d9-3ca4-46c8-b580-b5b1f5b92452"
      },
      "source": [
        "# This p-value is for half the sample\n",
        "# therefore, we must multiply it by 2. I am rounding off the result to 4 decimals as well.\n",
        "p_new = round(2*p,4)\n",
        "print(\"The p-value is = \" + str(p_new))"
      ],
      "execution_count": 89,
      "outputs": [
        {
          "output_type": "stream",
          "text": [
            "The p-value is = 0.0482\n"
          ],
          "name": "stdout"
        }
      ]
    },
    {
      "cell_type": "markdown",
      "metadata": {
        "id": "jaZotHpQU2bU",
        "colab_type": "text"
      },
      "source": [
        "### Answer : Since the p-value < 0.05 we can reject the null, and can say with 95% certainity that mean order value of the two genders are different and statistically significant."
      ]
    },
    {
      "cell_type": "markdown",
      "metadata": {
        "id": "tCkPg33AU9I0",
        "colab_type": "text"
      },
      "source": [
        "# D) Generate a confusion matrix for the gender predictions of customers in this dataset. You can assume that there is only one gender prediction for each customer. What does the confusion matrix tell you about the quality of the predictions?"
      ]
    },
    {
      "cell_type": "code",
      "metadata": {
        "id": "RooV5EXsU7vl",
        "colab_type": "code",
        "colab": {
          "base_uri": "https://localhost:8080/",
          "height": 50
        },
        "outputId": "a918e3a4-2c38-431b-e3b9-294dea98a0b8"
      },
      "source": [
        "# Confusion Matrix\n",
        "confusion_matrix(dataset['gender'],dataset['predicted_gender'])"
      ],
      "execution_count": 90,
      "outputs": [
        {
          "output_type": "execute_result",
          "data": {
            "text/plain": [
              "array([[3349, 3410],\n",
              "       [1463, 5249]])"
            ]
          },
          "metadata": {
            "tags": []
          },
          "execution_count": 90
        }
      ]
    },
    {
      "cell_type": "code",
      "metadata": {
        "id": "Z1EdCL2wVitm",
        "colab_type": "code",
        "colab": {
          "base_uri": "https://localhost:8080/",
          "height": 84
        },
        "outputId": "8f1886ec-31b4-4ec7-a09d-d8fffae9cefb"
      },
      "source": [
        "print('Accuracy  = ',accuracy_score(dataset['gender'],dataset['predicted_gender'])*100,'%')\n",
        "print('Precision = ',precision_score(dataset['gender'],dataset['predicted_gender']))\n",
        "print('Recall    = ',recall_score(dataset['gender'],dataset['predicted_gender']))\n",
        "print('F1 Score  = ',f1_score(dataset['gender'],dataset['predicted_gender']))"
      ],
      "execution_count": 91,
      "outputs": [
        {
          "output_type": "stream",
          "text": [
            "Accuracy  =  63.825996585257215 %\n",
            "Precision =  0.6061900912345537\n",
            "Recall    =  0.7820321811680572\n",
            "F1 Score  =  0.6829744323726498\n"
          ],
          "name": "stdout"
        }
      ]
    },
    {
      "cell_type": "markdown",
      "metadata": {
        "id": "fiWtZgxHVidL",
        "colab_type": "text"
      },
      "source": [
        "#### Since the accuracy is just over 60% which is significantly low, I'd say that the overall quality of the predictions in our dataset can be improved.\n",
        "\n",
        "#### Since we also have relatively high recall and low precision, we can say that the class is well detected, but the model includes points of other classes as well, and therefore not an accurate prediction.\n",
        "\n"
      ]
    },
    {
      "cell_type": "markdown",
      "metadata": {
        "id": "Kz5sJCcvYYUq",
        "colab_type": "text"
      },
      "source": [
        "# E) Describe one of your favorite tools or techniques and give a small example of how it's helped you solve a problem. Limit your answer to one paragraph, and please be specific."
      ]
    },
    {
      "cell_type": "markdown",
      "metadata": {
        "id": "6tmz-CslW5iK",
        "colab_type": "text"
      },
      "source": [
        "### Answer : Using Random Forests on data sets can help us determine variable importance, help us decide which variable to use or discard for our analyses, and also tell us if there is co-relation between these variables.\n",
        "### I have recently switched to Google Colab from Jupyter notebook, both of which very helpful tools for data analysis using Python libraries as they let me run code snippets, helping me focus on gathering insights from data,  rather than wasting time in debugging code. Google Colab however offers more computational power with access to Google Cloud services, provides specific processing units for working with tensor type datasets, which are likely to be found in Neural Network applications."
      ]
    }
  ]
}